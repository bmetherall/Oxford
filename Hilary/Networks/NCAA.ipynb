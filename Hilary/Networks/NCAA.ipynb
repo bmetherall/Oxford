{
 "cells": [
  {
   "cell_type": "code",
   "execution_count": 29,
   "metadata": {
    "collapsed": true
   },
   "outputs": [],
   "source": [
    "import numpy as np\n",
    "import SpringRank_tools as sr\n",
    "import json\n",
    "import matplotlib.pyplot as plt"
   ]
  },
  {
   "cell_type": "code",
   "execution_count": 30,
   "metadata": {
    "collapsed": true
   },
   "outputs": [],
   "source": [
    "class Game:\n",
    "    def __init__(self, winner, loser, rnd = -1):\n",
    "        self.winner = winner\n",
    "        self.loser = loser\n",
    "        self.round = rnd\n",
    "        \n",
    "data = np.loadtxt('./2019Box.csv',\n",
    "                  dtype={'names': ('date', 'team', 'place', 'opponent', 'score'),\n",
    "                         'formats': ('U20', 'U20', 'U5', 'U20', 'i4')},\n",
    "                 delimiter = ',')\n",
    "\n",
    "with open('2019.json') as f:\n",
    "    mm_data = json.load(f)"
   ]
  },
  {
   "cell_type": "code",
   "execution_count": 31,
   "metadata": {},
   "outputs": [],
   "source": [
    "games = []\n",
    "for i in range(int(len(data) / 2)):\n",
    "    away = data[2 * i]\n",
    "    home = data[2 * i + 1]\n",
    "    if home['score'] > away['score']:\n",
    "        games.append(Game(home['team'], away['team']))\n",
    "    else:\n",
    "        games.append(Game(away['team'], home['team']))\n",
    "        \n",
    "mm_games = []\n",
    "\n",
    "for reg in range(4):\n",
    "    for rnd in range(4):\n",
    "        for g_num in range(2**(3 - rnd)):\n",
    "            if mm_data['regions'][reg][rnd][g_num][0]['score'] > \\\n",
    "            mm_data['regions'][reg][rnd][g_num][1]['score']:\n",
    "                mm_games.append(Game(mm_data['regions'][reg][rnd][g_num][0]['team'],\n",
    "                                    mm_data['regions'][reg][rnd][g_num][1]['team'],\n",
    "                                    mm_data['regions'][reg][rnd][g_num][0]['round_of']))\n",
    "            else:\n",
    "                mm_games.append(Game(mm_data['regions'][reg][rnd][g_num][1]['team'],\n",
    "                                    mm_data['regions'][reg][rnd][g_num][0]['team'],\n",
    "                                    mm_data['regions'][reg][rnd][g_num][0]['round_of']))\n",
    "                \n",
    "for rnd in range(2):\n",
    "    for g_num in range(2**(1 - rnd)):\n",
    "        if mm_data['finalfour'][rnd][g_num][0]['score'] > \\\n",
    "        mm_data['finalfour'][rnd][g_num][1]['score']:\n",
    "            mm_games.append(Game(mm_data['finalfour'][rnd][g_num][0]['team'],\n",
    "                                mm_data['finalfour'][rnd][g_num][1]['team'],\n",
    "                                mm_data['finalfour'][rnd][g_num][0]['round_of']))\n",
    "        else:\n",
    "            mm_games.append(Game(mm_data['finalfour'][rnd][g_num][1]['team'],\n",
    "                                mm_data['finalfour'][rnd][g_num][0]['team'],\n",
    "                                mm_data['finalfour'][rnd][g_num][0]['round_of']))\n",
    "        \n",
    "teams = list(set(data['team']))\n",
    "teams.sort()\n",
    "\n",
    "team_dict = {}\n",
    "count = 0\n",
    "for t in teams:\n",
    "    team_dict[t] = count\n",
    "    count += 1"
   ]
  },
  {
   "cell_type": "code",
   "execution_count": 32,
   "metadata": {},
   "outputs": [],
   "source": [
    "adj_mat = np.zeros((len(teams), len(teams)))\n",
    "\n",
    "for g in games:\n",
    "    adj_mat[team_dict[g.winner], team_dict[g.loser]] += 1"
   ]
  },
  {
   "cell_type": "code",
   "execution_count": 33,
   "metadata": {},
   "outputs": [
    {
     "data": {
      "image/png": "[encoded data removed]",
      "text/plain": [
       "<Figure size 432x288 with 1 Axes>"
      ]
     },
     "metadata": {
      "needs_background": "light"
     },
     "output_type": "display_data"
    }
   ],
   "source": [
    "plt.spy(adj_mat)\n",
    "plt.show()"
   ]
  },
  {
   "cell_type": "code",
   "execution_count": 34,
   "metadata": {
    "collapsed": true
   },
   "outputs": [],
   "source": [
    "rank = sr.SpringRank(adj_mat) # Compute spring rank\n",
    "rank = np.argsort(-rank) # Sorts to give the index of that ranking"
   ]
  },
  {
   "cell_type": "code",
   "execution_count": 35,
   "metadata": {},
   "outputs": [
    {
     "name": "stdout",
     "output_type": "stream",
     "text": [
      "Duke\n",
      "Virginia\n",
      "St. Elizabeth\n"
     ]
    }
   ],
   "source": [
    "print(teams[rank[0]]) # Duke first overall seed\n",
    "print(teams[rank[1]]) # Virginia second overall seed\n",
    "print(teams[rank[-1]]) # Cairn lowest overall seed (division 3)"
   ]
  },
  {
   "cell_type": "code",
   "execution_count": 36,
   "metadata": {},
   "outputs": [
    {
     "name": "stdout",
     "output_type": "stream",
     "text": [
      "Duke\n",
      "Virginia\n",
      "Tennessee\n",
      "Michigan State\n",
      "UNC\n",
      "Kentucky\n",
      "Kansas\n",
      "Michigan\n",
      "Houston\n",
      "LSU\n"
     ]
    }
   ],
   "source": [
    "for i in range(10):\n",
    "    print(teams[rank[i]])"
   ]
  },
  {
   "cell_type": "code",
   "execution_count": 37,
   "metadata": {
    "collapsed": true
   },
   "outputs": [],
   "source": [
    "rank_dict = {}\n",
    "for i in range(len(teams)):\n",
    "    rank_dict[teams[rank[i]]] = i"
   ]
  },
  {
   "cell_type": "code",
   "execution_count": 38,
   "metadata": {},
   "outputs": [
    {
     "data": {
      "text/plain": [
       "115"
      ]
     },
     "execution_count": 38,
     "metadata": {},
     "output_type": "execute_result"
    }
   ],
   "source": [
    "rank_dict['Montana'] # spring rank of a given team"
   ]
  },
  {
   "cell_type": "code",
   "execution_count": 39,
   "metadata": {},
   "outputs": [
    {
     "name": "stdout",
     "output_type": "stream",
     "text": [
      "3\n",
      "11\n"
     ]
    }
   ],
   "source": [
    "print(rank_dict['Michigan State'])\n",
    "print(rank_dict['Texas Tech'])"
   ]
  },
  {
   "cell_type": "code",
   "execution_count": 42,
   "metadata": {},
   "outputs": [
    {
     "name": "stdout",
     "output_type": "stream",
     "text": [
      "0 195\n",
      "27 32\n",
      "86 20\n",
      "24 81\n",
      "23 55\n",
      "9 67\n",
      "31 29\n",
      "3 149\n",
      "0 27\n",
      "24 86\n",
      "9 23\n",
      "3 31\n",
      "0 24\n",
      "3 9\n",
      "3 0\n",
      "12 210\n",
      "41 36\n",
      "51 22\n",
      "10 84\n",
      "15 42\n",
      "11 103\n",
      "39 25\n",
      "7 115\n",
      "12 41\n",
      "10 51\n",
      "11 15\n",
      "7 39\n",
      "12 10\n",
      "11 7\n",
      "11 12\n",
      "1 172\n",
      "28 40\n",
      "52 19\n",
      "64 13\n",
      "18 59\n",
      "14 63\n",
      "30 16\n",
      "2 123\n",
      "1 28\n",
      "52 64\n",
      "14 18\n",
      "2 30\n",
      "1 52\n",
      "14 2\n",
      "1 14\n",
      "4 224\n",
      "26 38\n",
      "17 43\n",
      "6 76\n",
      "45 21\n",
      "8 71\n",
      "33 37\n",
      "5 122\n",
      "4 26\n",
      "17 6\n",
      "8 45\n",
      "5 33\n",
      "17 4\n",
      "5 8\n",
      "17 5\n",
      "11 3\n",
      "1 17\n",
      "1 11\n"
     ]
    }
   ],
   "source": [
    "for g in mm_games:\n",
    "    print(rank_dict[g.winner], rank_dict[g.loser])"
   ]
  },
  {
   "cell_type": "code",
   "execution_count": null,
   "metadata": {
    "collapsed": true
   },
   "outputs": [],
   "source": []
  },
  {
   "cell_type": "code",
   "execution_count": null,
   "metadata": {
    "collapsed": true
   },
   "outputs": [],
   "source": []
  },
  {
   "cell_type": "code",
   "execution_count": null,
   "metadata": {
    "collapsed": true
   },
   "outputs": [],
   "source": []
  }
 ],
 "metadata": {
  "kernelspec": {
   "display_name": "Python 3",
   "language": "python",
   "name": "python3"
  },
  "language_info": {
   "codemirror_mode": {
    "name": "ipython",
    "version": 3
   },
   "file_extension": ".py",
   "mimetype": "text/x-python",
   "name": "python",
   "nbconvert_exporter": "python",
   "pygments_lexer": "ipython3",
   "version": "3.6.9"
  }
 },
 "nbformat": 4,
 "nbformat_minor": 2
}
